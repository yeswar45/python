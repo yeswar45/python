{
 "cells": [
  {
   "cell_type": "markdown",
   "metadata": {
    "id": "_fHQRTQw40fq"
   },
   "source": [
    "# Functions"
   ]
  },
  {
   "cell_type": "markdown",
   "metadata": {
    "id": "bOpyJCN8G4I7"
   },
   "source": []
  },
  {
   "cell_type": "code",
   "execution_count": null,
   "metadata": {
    "id": "MjT0KNrn42B1"
   },
   "outputs": [],
   "source": [
    "def show():\n",
    "  print(\"Welcome\")"
   ]
  },
  {
   "cell_type": "code",
   "execution_count": null,
   "metadata": {
    "colab": {
     "base_uri": "https://localhost:8080/"
    },
    "id": "J3Tfjj2t5Zqx",
    "outputId": "c7d585b4-8bc4-445d-9bb1-516a13a91f77"
   },
   "outputs": [
    {
     "name": "stdout",
     "output_type": "stream",
     "text": [
      "Welcome\n"
     ]
    }
   ],
   "source": [
    "show()"
   ]
  },
  {
   "cell_type": "code",
   "execution_count": null,
   "metadata": {
    "id": "qTznTEEz5d57"
   },
   "outputs": [],
   "source": [
    "# Write a code to increment a no by 10"
   ]
  },
  {
   "cell_type": "code",
   "execution_count": null,
   "metadata": {
    "id": "eVpvxQHO5rKP"
   },
   "outputs": [],
   "source": [
    "# User Defined fro user"
   ]
  },
  {
   "cell_type": "code",
   "execution_count": null,
   "metadata": {
    "colab": {
     "base_uri": "https://localhost:8080/"
    },
    "id": "NX1PSoXe5yUp",
    "outputId": "07f09da5-e8d5-4741-8889-aa0339ca492e"
   },
   "outputs": [
    {
     "name": "stdout",
     "output_type": "stream",
     "text": [
      "Enter a no\t12\n"
     ]
    }
   ],
   "source": [
    "a=input(\"Enter a no\\t\")"
   ]
  },
  {
   "cell_type": "code",
   "execution_count": null,
   "metadata": {
    "colab": {
     "base_uri": "https://localhost:8080/"
    },
    "id": "sEPr8BmY55ta",
    "outputId": "7b709ca9-0b59-469a-81fb-9a3d30a287cf"
   },
   "outputs": [
    {
     "name": "stdout",
     "output_type": "stream",
     "text": [
      "12\n"
     ]
    }
   ],
   "source": [
    "print(a)"
   ]
  },
  {
   "cell_type": "code",
   "execution_count": null,
   "metadata": {
    "colab": {
     "base_uri": "https://localhost:8080/"
    },
    "id": "_i7IsGJm6eSm",
    "outputId": "b276e400-fde7-4170-be3f-2e31d6048aeb"
   },
   "outputs": [
    {
     "data": {
      "text/plain": [
       "str"
      ]
     },
     "execution_count": 9,
     "metadata": {},
     "output_type": "execute_result"
    }
   ],
   "source": [
    "type(a)"
   ]
  },
  {
   "cell_type": "code",
   "execution_count": null,
   "metadata": {
    "colab": {
     "base_uri": "https://localhost:8080/",
     "height": 35
    },
    "id": "SCCE-_R06h_3",
    "outputId": "b7be969e-e1ba-440d-fedc-c7020032dd4e"
   },
   "outputs": [
    {
     "data": {
      "application/vnd.google.colaboratory.intrinsic+json": {
       "type": "string"
      },
      "text/plain": [
       "'1212'"
      ]
     },
     "execution_count": 10,
     "metadata": {},
     "output_type": "execute_result"
    }
   ],
   "source": [
    "a*2"
   ]
  },
  {
   "cell_type": "code",
   "execution_count": null,
   "metadata": {
    "id": "gCa4jgtH6n2s"
   },
   "outputs": [],
   "source": [
    "# Type Casting "
   ]
  },
  {
   "cell_type": "code",
   "execution_count": null,
   "metadata": {
    "id": "D1RnJlqA6xH2"
   },
   "outputs": [],
   "source": [
    "x=2\n",
    "y=7.9\n",
    "z=2j"
   ]
  },
  {
   "cell_type": "code",
   "execution_count": null,
   "metadata": {
    "colab": {
     "base_uri": "https://localhost:8080/"
    },
    "id": "eJtDVDh862UN",
    "outputId": "0dcbcfec-9f70-4740-ff4b-a4b2f6901bf1"
   },
   "outputs": [
    {
     "name": "stdout",
     "output_type": "stream",
     "text": [
      "7\n"
     ]
    }
   ],
   "source": [
    "p=int(y)\n",
    "print(p)"
   ]
  },
  {
   "cell_type": "code",
   "execution_count": null,
   "metadata": {
    "colab": {
     "base_uri": "https://localhost:8080/"
    },
    "id": "W0w5dTX569EF",
    "outputId": "14b4e977-04ef-4909-c2e5-9b9f92c16054"
   },
   "outputs": [
    {
     "name": "stdout",
     "output_type": "stream",
     "text": [
      "2.0\n"
     ]
    }
   ],
   "source": [
    "q=float(x)\n",
    "print(q)"
   ]
  },
  {
   "cell_type": "code",
   "execution_count": null,
   "metadata": {
    "id": "URXR2ok-7GMz"
   },
   "outputs": [],
   "source": [
    "# Add of 2 user defined no"
   ]
  },
  {
   "cell_type": "code",
   "execution_count": null,
   "metadata": {
    "colab": {
     "base_uri": "https://localhost:8080/"
    },
    "id": "EviVnVmT7fgv",
    "outputId": "1ad29466-b7c8-4992-dcb4-cce994d83fa0"
   },
   "outputs": [
    {
     "name": "stdout",
     "output_type": "stream",
     "text": [
      "Eneter a no\t12\n",
      "Eneter a no\t45\n",
      "Add=\t 57\n"
     ]
    }
   ],
   "source": [
    "x=int(input(\"Enter a no\\t\"))\n",
    "y=int(input(\"Enter a no\\t\"))\n",
    "z=x+y\n",
    "print(\"Add=\\t\",z)"
   ]
  },
  {
   "cell_type": "code",
   "execution_count": null,
   "metadata": {
    "id": "OfYi-E467zdE"
   },
   "outputs": [],
   "source": [
    "# Add of 2 user defined no using a Function"
   ]
  },
  {
   "cell_type": "code",
   "execution_count": null,
   "metadata": {
    "id": "XYOF41qr8Veb"
   },
   "outputs": [],
   "source": [
    "def add(x,y):\n",
    "    z = x + y\n",
    "    return (z)\n",
    "\n"
   ]
  },
  {
   "cell_type": "code",
   "execution_count": null,
   "metadata": {
    "colab": {
     "base_uri": "https://localhost:8080/"
    },
    "executionInfo": {
     "elapsed": 5436,
     "status": "ok",
     "timestamp": 1665242921879,
     "user": {
      "displayName": "kiran navale",
      "userId": "16198579045610473011"
     },
     "user_tz": -330
    },
    "id": "ftpE6O5l8aK7",
    "outputId": "937a3670-1d7a-431b-c432-fc3ac1eb29e8"
   },
   "outputs": [
    {
     "name": "stdout",
     "output_type": "stream",
     "text": [
      "Enter the first number: 2\n",
      "Enter the second number: 3\n",
      "5\n"
     ]
    }
   ],
   "source": [
    "num1 = int(input(\"Enter the first number: \"))\n",
    "num2 = int(input(\"Enter the second number: \"))\n",
    "ans = add(num1, num2)\n",
    "print(ans)"
   ]
  },
  {
   "cell_type": "code",
   "execution_count": null,
   "metadata": {
    "id": "bGUSUdbg8e4R"
   },
   "outputs": [],
   "source": [
    "# Comapre 2 using If else with User Defined no\n"
   ]
  },
  {
   "cell_type": "code",
   "execution_count": null,
   "metadata": {
    "id": "QfReCRza80do"
   },
   "outputs": [],
   "source": [
    "def cmp(x,y):\n",
    "  if(x>y):\n",
    "    print(\"A is big\")\n",
    "  else:\n",
    "    print(\"B is big\")"
   ]
  },
  {
   "cell_type": "code",
   "execution_count": null,
   "metadata": {
    "colab": {
     "base_uri": "https://localhost:8080/"
    },
    "executionInfo": {
     "elapsed": 6296,
     "status": "ok",
     "timestamp": 1665242944127,
     "user": {
      "displayName": "kiran navale",
      "userId": "16198579045610473011"
     },
     "user_tz": -330
    },
    "id": "sMWIja7O9Hwg",
    "outputId": "2e29a685-c9cf-41bd-81e0-413a3871a49f"
   },
   "outputs": [
    {
     "name": "stdout",
     "output_type": "stream",
     "text": [
      "Enter a no\t2\n",
      "Enter a no\t1\n",
      "A is big\n"
     ]
    }
   ],
   "source": [
    "x=int(input(\"Enter a no\\t\"))\n",
    "y=int(input(\"Enter a no\\t\"))\n",
    "\n",
    "cmp(x,y)"
   ]
  },
  {
   "cell_type": "code",
   "execution_count": null,
   "metadata": {
    "id": "aHljEpc49U2n"
   },
   "outputs": [],
   "source": [
    "5"
   ]
  },
  {
   "cell_type": "code",
   "execution_count": null,
   "metadata": {
    "id": "Y3Q8zwRn9s8-"
   },
   "outputs": [],
   "source": [
    "# Write a code to display first 10 Odd No using Function and for loop"
   ]
  },
  {
   "cell_type": "code",
   "execution_count": null,
   "metadata": {
    "colab": {
     "base_uri": "https://localhost:8080/"
    },
    "executionInfo": {
     "elapsed": 686,
     "status": "ok",
     "timestamp": 1665243031888,
     "user": {
      "displayName": "kiran navale",
      "userId": "16198579045610473011"
     },
     "user_tz": -330
    },
    "id": "cwbREk8x-hHW",
    "outputId": "07868d8f-48ed-4e4a-ab9e-8faeacf36b39"
   },
   "outputs": [
    {
     "name": "stdout",
     "output_type": "stream",
     "text": [
      "1  \t\n",
      "3  \t\n",
      "5  \t\n",
      "7  \t\n",
      "9  \t\n",
      "11  \t\n",
      "13  \t\n",
      "15  \t\n",
      "17  \t\n",
      "19  \t\n"
     ]
    }
   ],
   "source": [
    "def display():\n",
    "  for i in range(0,10):\n",
    "      print((i*2+1),\" \\t\")\n",
    "  \n",
    "display()"
   ]
  },
  {
   "cell_type": "code",
   "execution_count": 3,
   "metadata": {},
   "outputs": [
    {
     "name": "stdout",
     "output_type": "stream",
     "text": [
      "2  \t\n",
      "4  \t\n",
      "6  \t\n",
      "8  \t\n",
      "10  \t\n"
     ]
    }
   ],
   "source": [
    "def display():\n",
    "  for i in range(0,10,2):\n",
    "      print((i*1+2),\" \\t\")\n",
    "  \n",
    "display()"
   ]
  },
  {
   "cell_type": "code",
   "execution_count": 4,
   "metadata": {
    "colab": {
     "base_uri": "https://localhost:8080/"
    },
    "executionInfo": {
     "elapsed": 410,
     "status": "ok",
     "timestamp": 1665243056808,
     "user": {
      "displayName": "kiran navale",
      "userId": "16198579045610473011"
     },
     "user_tz": -330
    },
    "id": "gJYqqVz9-vWW",
    "outputId": "53e383ba-7185-49f4-8dad-a181676edfff"
   },
   "outputs": [
    {
     "name": "stdout",
     "output_type": "stream",
     "text": [
      "1\n",
      "3\n",
      "5\n",
      "7\n",
      "9\n"
     ]
    }
   ],
   "source": [
    "#Odd Nno between 1 to 10\n",
    "def display():\n",
    "  for i in range(1,10,2):\n",
    "      print(i)\n",
    "  \n",
    "display()"
   ]
  },
  {
   "cell_type": "markdown",
   "metadata": {
    "id": "lrf7zsOtUnZw"
   },
   "source": [
    "# Default Parameter Value"
   ]
  },
  {
   "cell_type": "code",
   "execution_count": 5,
   "metadata": {
    "colab": {
     "base_uri": "https://localhost:8080/"
    },
    "executionInfo": {
     "elapsed": 418,
     "status": "ok",
     "timestamp": 1665243199121,
     "user": {
      "displayName": "kiran navale",
      "userId": "16198579045610473011"
     },
     "user_tz": -330
    },
    "id": "Bneo08JMUpK6",
    "outputId": "f6f8afbb-a1a2-463b-ba4e-e8b4417e4f7e"
   },
   "outputs": [
    {
     "name": "stdout",
     "output_type": "stream",
     "text": [
      "My Counry: USA\n",
      "My Counry: Brazil\n"
     ]
    }
   ],
   "source": [
    "def my_function(country = \"USA\"):\n",
    "  print(\"My Counry: \" + country)\n",
    "\n",
    "#my_function(\"India\")\n",
    "my_function()\n",
    "my_function(\"Brazil\")"
   ]
  },
  {
   "cell_type": "code",
   "execution_count": null,
   "metadata": {
    "id": "InUv-a5CUwpF"
   },
   "outputs": [],
   "source": []
  },
  {
   "cell_type": "markdown",
   "metadata": {
    "id": "xDrpyzN2VE6Y"
   },
   "source": [
    "# Passing a List as an Argument"
   ]
  },
  {
   "cell_type": "code",
   "execution_count": null,
   "metadata": {
    "colab": {
     "base_uri": "https://localhost:8080/"
    },
    "executionInfo": {
     "elapsed": 374,
     "status": "ok",
     "timestamp": 1665243299317,
     "user": {
      "displayName": "kiran navale",
      "userId": "16198579045610473011"
     },
     "user_tz": -330
    },
    "id": "X8z2Bc3MVGAY",
    "outputId": "44b934ae-0fb1-4a18-b594-2e4816f4bba6"
   },
   "outputs": [
    {
     "name": "stdout",
     "output_type": "stream",
     "text": [
      "ABC\n",
      "PQR\n",
      "999\n",
      "22\n"
     ]
    }
   ],
   "source": [
    "def my_function(temp):\n",
    "  for x in temp:\n",
    "    print(x)\n",
    "\n",
    "abc = [\"ABC\",\"PQR\",999,22]\n",
    "\n",
    "my_function(abc)"
   ]
  },
  {
   "cell_type": "code",
   "execution_count": null,
   "metadata": {
    "id": "sjHYhu3rVf-q"
   },
   "outputs": [],
   "source": []
  },
  {
   "cell_type": "markdown",
   "metadata": {
    "id": "tc8Og28iVlh0"
   },
   "source": [
    "## Return Values"
   ]
  },
  {
   "cell_type": "code",
   "execution_count": null,
   "metadata": {
    "colab": {
     "base_uri": "https://localhost:8080/"
    },
    "executionInfo": {
     "elapsed": 9,
     "status": "ok",
     "timestamp": 1665228264310,
     "user": {
      "displayName": "kiran navale",
      "userId": "16198579045610473011"
     },
     "user_tz": -330
    },
    "id": "sMkT9UwtVope",
    "outputId": "137abca4-d9e3-48dc-82ea-1eac2ebd6935"
   },
   "outputs": [
    {
     "name": "stdout",
     "output_type": "stream",
     "text": [
      "15\n",
      "25\n",
      "45\n"
     ]
    }
   ],
   "source": [
    "def my_function(x):\n",
    "  return 5 * x\n",
    "\n",
    "print(my_function(3))\n",
    "print(my_function(5))\n",
    "print(my_function(9))"
   ]
  },
  {
   "cell_type": "code",
   "execution_count": null,
   "metadata": {
    "id": "tp_uLfNPVs0t"
   },
   "outputs": [],
   "source": [
    "# Addition of 2 no Return"
   ]
  },
  {
   "cell_type": "code",
   "execution_count": null,
   "metadata": {
    "colab": {
     "base_uri": "https://localhost:8080/"
    },
    "executionInfo": {
     "elapsed": 3155,
     "status": "ok",
     "timestamp": 1665228423490,
     "user": {
      "displayName": "kiran navale",
      "userId": "16198579045610473011"
     },
     "user_tz": -330
    },
    "id": "8Ee57DA1Vw_X",
    "outputId": "b8a52eac-58a3-4d8e-fd24-b85597889dd5"
   },
   "outputs": [
    {
     "name": "stdout",
     "output_type": "stream",
     "text": [
      "Enter a no:5\n",
      "The factorial of 5 is 120\n"
     ]
    }
   ],
   "source": [
    "def factorial(x):\n",
    "    \"\"\"This is a recursive function\n",
    "    to find the factorial of an integer\"\"\"\n",
    "\n",
    "    if x == 1:\n",
    "        return 1\n",
    "    else:\n",
    "        # recursive call to the function\n",
    "        return (x * factorial(x-1))\n",
    "\n",
    "\n",
    "  # Call a Factroal Function\n",
    "\n",
    "num=int(input(\"Enter a no:\"))\n",
    "result = factorial(num)\n",
    "print(\"The factorial of\", num, \"is\", result)      "
   ]
  },
  {
   "cell_type": "code",
   "execution_count": null,
   "metadata": {
    "id": "kFDZXl1UWS4_"
   },
   "outputs": [],
   "source": []
  },
  {
   "cell_type": "markdown",
   "metadata": {
    "id": "08FHVtyTWmJC"
   },
   "source": [
    "# Lambda Function\n",
    "\n",
    "* A lambda function is a small anonymous function.\n",
    "\n",
    "* A lambda function can take any number of arguments, but can only have one expression.\n",
    "\n"
   ]
  },
  {
   "cell_type": "code",
   "execution_count": null,
   "metadata": {
    "colab": {
     "base_uri": "https://localhost:8080/"
    },
    "executionInfo": {
     "elapsed": 8,
     "status": "ok",
     "timestamp": 1665228559198,
     "user": {
      "displayName": "kiran navale",
      "userId": "16198579045610473011"
     },
     "user_tz": -330
    },
    "id": "3H9Bc3a_Wn6s",
    "outputId": "ce2c23cc-9736-4128-e1ca-66dd892ed772"
   },
   "outputs": [
    {
     "name": "stdout",
     "output_type": "stream",
     "text": [
      "15\n"
     ]
    }
   ],
   "source": [
    "x = lambda a : a + 10\n",
    "print(x(5))"
   ]
  },
  {
   "cell_type": "code",
   "execution_count": null,
   "metadata": {
    "colab": {
     "base_uri": "https://localhost:8080/"
    },
    "executionInfo": {
     "elapsed": 4,
     "status": "ok",
     "timestamp": 1665228581635,
     "user": {
      "displayName": "kiran navale",
      "userId": "16198579045610473011"
     },
     "user_tz": -330
    },
    "id": "eXDx_RkZW00z",
    "outputId": "3dcafa3a-7d75-4af3-a0aa-223edeb5cd29"
   },
   "outputs": [
    {
     "name": "stdout",
     "output_type": "stream",
     "text": [
      "30\n"
     ]
    }
   ],
   "source": [
    "x = lambda a, b : a * b\n",
    "print(x(5, 6))"
   ]
  },
  {
   "cell_type": "code",
   "execution_count": null,
   "metadata": {
    "colab": {
     "base_uri": "https://localhost:8080/"
    },
    "executionInfo": {
     "elapsed": 8,
     "status": "ok",
     "timestamp": 1665228594095,
     "user": {
      "displayName": "kiran navale",
      "userId": "16198579045610473011"
     },
     "user_tz": -330
    },
    "id": "r5jAv8gSW6Ql",
    "outputId": "3231ea89-f9f3-4d3a-dce9-8aa3518f9227"
   },
   "outputs": [
    {
     "name": "stdout",
     "output_type": "stream",
     "text": [
      "13\n"
     ]
    }
   ],
   "source": [
    "x = lambda a, b, c : a + b + c\n",
    "print(x(5, 6, 2))"
   ]
  },
  {
   "cell_type": "code",
   "execution_count": null,
   "metadata": {
    "colab": {
     "base_uri": "https://localhost:8080/"
    },
    "executionInfo": {
     "elapsed": 8,
     "status": "ok",
     "timestamp": 1665228622918,
     "user": {
      "displayName": "kiran navale",
      "userId": "16198579045610473011"
     },
     "user_tz": -330
    },
    "id": "xhkOWbtIW9Vk",
    "outputId": "bc0062ee-ce13-4741-b9a5-4803a43a89dc"
   },
   "outputs": [
    {
     "name": "stdout",
     "output_type": "stream",
     "text": [
      "22\n"
     ]
    }
   ],
   "source": [
    "def myfunc(n):\n",
    "  return lambda a : a * n\n",
    "\n",
    "mydoubler = myfunc(2)\n",
    "\n",
    "print(mydoubler(11))"
   ]
  },
  {
   "cell_type": "code",
   "execution_count": null,
   "metadata": {
    "colab": {
     "base_uri": "https://localhost:8080/"
    },
    "executionInfo": {
     "elapsed": 7,
     "status": "ok",
     "timestamp": 1665228641486,
     "user": {
      "displayName": "kiran navale",
      "userId": "16198579045610473011"
     },
     "user_tz": -330
    },
    "id": "1RWhzv6GXEYD",
    "outputId": "f76f8608-26a6-4158-b838-5da5373686e4"
   },
   "outputs": [
    {
     "name": "stdout",
     "output_type": "stream",
     "text": [
      "33\n"
     ]
    }
   ],
   "source": [
    "def myfunc(n):\n",
    "  return lambda a : a * n\n",
    "\n",
    "mytripler = myfunc(3)\n",
    "\n",
    "print(mytripler(11))"
   ]
  },
  {
   "cell_type": "code",
   "execution_count": null,
   "metadata": {
    "colab": {
     "base_uri": "https://localhost:8080/"
    },
    "executionInfo": {
     "elapsed": 6,
     "status": "ok",
     "timestamp": 1665228669121,
     "user": {
      "displayName": "kiran navale",
      "userId": "16198579045610473011"
     },
     "user_tz": -330
    },
    "id": "0DM908eoXHkc",
    "outputId": "606d8f15-c062-49db-9b02-af861487b693"
   },
   "outputs": [
    {
     "name": "stdout",
     "output_type": "stream",
     "text": [
      "22\n",
      "33\n"
     ]
    }
   ],
   "source": [
    "def myfunc(n):\n",
    "  return lambda a : a * n\n",
    "\n",
    "mydoubler = myfunc(2)\n",
    "mytripler = myfunc(3)\n",
    "\n",
    "print(mydoubler(11))\n",
    "print(mytripler(11))"
   ]
  },
  {
   "cell_type": "code",
   "execution_count": null,
   "metadata": {
    "id": "xwjZZBTMXOZU"
   },
   "outputs": [],
   "source": []
  },
  {
   "cell_type": "markdown",
   "metadata": {
    "id": "c36gk4CAG8Q-"
   },
   "source": [
    "# Local and Global Variable"
   ]
  },
  {
   "cell_type": "code",
   "execution_count": 1,
   "metadata": {
    "colab": {
     "base_uri": "https://localhost:8080/"
    },
    "executionInfo": {
     "elapsed": 57,
     "status": "ok",
     "timestamp": 1665323037909,
     "user": {
      "displayName": "kiran navale",
      "userId": "16198579045610473011"
     },
     "user_tz": -330
    },
    "id": "fGAQaBGVHAC3",
    "outputId": "9fba4faf-3a0e-44b3-aec2-51cad95c5da1"
   },
   "outputs": [
    {
     "name": "stdout",
     "output_type": "stream",
     "text": [
      "50\n"
     ]
    }
   ],
   "source": [
    "a=50  # Global Variable\n",
    "\n",
    "def myfun():\n",
    "  b=30\n",
    "  print(b)\n",
    "\n",
    "print(a)\n",
    "\n"
   ]
  },
  {
   "cell_type": "code",
   "execution_count": 2,
   "metadata": {
    "colab": {
     "base_uri": "https://localhost:8080/",
     "height": 270
    },
    "executionInfo": {
     "elapsed": 45,
     "status": "error",
     "timestamp": 1665323037915,
     "user": {
      "displayName": "kiran navale",
      "userId": "16198579045610473011"
     },
     "user_tz": -330
    },
    "id": "r3Jgmm1PHi15",
    "outputId": "347f9729-31c6-4497-8695-fee25dad3320"
   },
   "outputs": [
    {
     "ename": "NameError",
     "evalue": "ignored",
     "output_type": "error",
     "traceback": [
      "\u001b[0;31m---------------------------------------------------------------------------\u001b[0m",
      "\u001b[0;31mNameError\u001b[0m                                 Traceback (most recent call last)",
      "\u001b[0;32m<ipython-input-2-35e3de59ca37>\u001b[0m in \u001b[0;36m<module>\u001b[0;34m\u001b[0m\n\u001b[1;32m      5\u001b[0m   \u001b[0mprint\u001b[0m\u001b[0;34m(\u001b[0m\u001b[0mb\u001b[0m\u001b[0;34m)\u001b[0m\u001b[0;34m\u001b[0m\u001b[0;34m\u001b[0m\u001b[0m\n\u001b[1;32m      6\u001b[0m \u001b[0;34m\u001b[0m\u001b[0m\n\u001b[0;32m----> 7\u001b[0;31m \u001b[0mprint\u001b[0m\u001b[0;34m(\u001b[0m\u001b[0mb\u001b[0m\u001b[0;34m)\u001b[0m\u001b[0;34m\u001b[0m\u001b[0;34m\u001b[0m\u001b[0m\n\u001b[0m",
      "\u001b[0;31mNameError\u001b[0m: name 'b' is not defined"
     ]
    }
   ],
   "source": [
    "a=50  # Global Variable\n",
    "\n",
    "def myfun():\n",
    "  b=30\n",
    "  print(b)\n",
    "\n",
    "print(b)"
   ]
  },
  {
   "cell_type": "code",
   "execution_count": null,
   "metadata": {
    "executionInfo": {
     "elapsed": 46,
     "status": "aborted",
     "timestamp": 1665323039768,
     "user": {
      "displayName": "kiran navale",
      "userId": "16198579045610473011"
     },
     "user_tz": -330
    },
    "id": "NfQA-DaEHkmn"
   },
   "outputs": [],
   "source": [
    "a=50  # Global Variable\n",
    "\n",
    "def myfun():\n",
    "  b=30\n",
    "  return(b)\n",
    "\n",
    "print(\"Global a=\",a)\n",
    "print(\"Local b=\",myfun())"
   ]
  },
  {
   "cell_type": "code",
   "execution_count": null,
   "metadata": {
    "executionInfo": {
     "elapsed": 42,
     "status": "aborted",
     "timestamp": 1665323039774,
     "user": {
      "displayName": "kiran navale",
      "userId": "16198579045610473011"
     },
     "user_tz": -330
    },
    "id": "HNirpzy5Hz3u"
   },
   "outputs": [],
   "source": [
    "basic=2000\n",
    "\n",
    "def package(salary):\n",
    "  total_salary=basic+salary\n",
    "  print(\"Total Salary:\\t\",total_salary)\n",
    "\n",
    "# CAll fun\n",
    "package(50000)"
   ]
  },
  {
   "cell_type": "markdown",
   "metadata": {
    "id": "W7rC-oW0RESE"
   },
   "source": [
    "## Global Keyword"
   ]
  },
  {
   "cell_type": "code",
   "execution_count": null,
   "metadata": {
    "executionInfo": {
     "elapsed": 38,
     "status": "aborted",
     "timestamp": 1665323039779,
     "user": {
      "displayName": "kiran navale",
      "userId": "16198579045610473011"
     },
     "user_tz": -330
    },
    "id": "VDjrfo0ZIwgM"
   },
   "outputs": [],
   "source": [
    "\n",
    "\n",
    "def myfun():\n",
    "  global b\n",
    "  b=30\n",
    "  print(\"Inside Function b:\",b)\n",
    "\n",
    "myfun()\n",
    "print(\"Outside function b:\",b)\n"
   ]
  }
 ],
 "metadata": {
  "colab": {
   "provenance": []
  },
  "kernelspec": {
   "display_name": "Python 3 (ipykernel)",
   "language": "python",
   "name": "python3"
  },
  "language_info": {
   "codemirror_mode": {
    "name": "ipython",
    "version": 3
   },
   "file_extension": ".py",
   "mimetype": "text/x-python",
   "name": "python",
   "nbconvert_exporter": "python",
   "pygments_lexer": "ipython3",
   "version": "3.9.7"
  }
 },
 "nbformat": 4,
 "nbformat_minor": 1
}
