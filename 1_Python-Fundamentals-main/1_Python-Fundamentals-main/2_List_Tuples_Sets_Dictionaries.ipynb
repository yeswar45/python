{
 "cells": [
  {
   "cell_type": "markdown",
   "metadata": {
    "id": "mFX2t09DKjBk"
   },
   "source": [
    "# List"
   ]
  },
  {
   "cell_type": "code",
   "execution_count": 1,
   "metadata": {
    "id": "RYoDEKFKKoTR"
   },
   "outputs": [],
   "source": [
    "a=[\"abc\",5.6,89,(3+6j)]"
   ]
  },
  {
   "cell_type": "code",
   "execution_count": 2,
   "metadata": {
    "colab": {
     "base_uri": "https://localhost:8080/"
    },
    "id": "6KNwTekPKzEA",
    "outputId": "365b24b2-34ae-4d5c-de8e-cddadf0618c7"
   },
   "outputs": [
    {
     "data": {
      "text/plain": [
       "['abc', 5.6, 89, (3+6j)]"
      ]
     },
     "execution_count": 2,
     "metadata": {},
     "output_type": "execute_result"
    }
   ],
   "source": [
    "a"
   ]
  },
  {
   "cell_type": "code",
   "execution_count": 3,
   "metadata": {
    "colab": {
     "base_uri": "https://localhost:8080/"
    },
    "id": "H1lFm0W0K0Ed",
    "outputId": "41d6f354-34a5-424d-8151-ad6098c50f6e"
   },
   "outputs": [
    {
     "name": "stdout",
     "output_type": "stream",
     "text": [
      "(3+6j)\n"
     ]
    }
   ],
   "source": [
    "print(a[3])"
   ]
  },
  {
   "cell_type": "code",
   "execution_count": 4,
   "metadata": {
    "id": "AmvOfol_K9tR"
   },
   "outputs": [],
   "source": [
    "a[1]=10"
   ]
  },
  {
   "cell_type": "code",
   "execution_count": 5,
   "metadata": {
    "colab": {
     "base_uri": "https://localhost:8080/"
    },
    "id": "tg1XHpjsLObl",
    "outputId": "b441debe-2cc3-49d8-a830-e02b2d84d62a"
   },
   "outputs": [
    {
     "data": {
      "text/plain": [
       "['abc', 10, 89, (3+6j)]"
      ]
     },
     "execution_count": 5,
     "metadata": {},
     "output_type": "execute_result"
    }
   ],
   "source": [
    "a"
   ]
  },
  {
   "cell_type": "code",
   "execution_count": 6,
   "metadata": {},
   "outputs": [
    {
     "name": "stdout",
     "output_type": "stream",
     "text": [
      "<class 'list'>\n"
     ]
    }
   ],
   "source": [
    "print(type(a))"
   ]
  },
  {
   "cell_type": "code",
   "execution_count": 7,
   "metadata": {
    "id": "eL9XJpN4LO_W"
   },
   "outputs": [],
   "source": [
    "a.append(10)"
   ]
  },
  {
   "cell_type": "code",
   "execution_count": 8,
   "metadata": {
    "colab": {
     "base_uri": "https://localhost:8080/"
    },
    "id": "v4UsZ5sLLfmv",
    "outputId": "7b66f161-c23d-48f1-bf48-6fe8b53330b0"
   },
   "outputs": [
    {
     "data": {
      "text/plain": [
       "['abc', 10, 89, (3+6j), 10]"
      ]
     },
     "execution_count": 8,
     "metadata": {},
     "output_type": "execute_result"
    }
   ],
   "source": [
    "a"
   ]
  },
  {
   "cell_type": "markdown",
   "metadata": {},
   "source": [
    "# Help function in python"
   ]
  },
  {
   "cell_type": "code",
   "execution_count": 12,
   "metadata": {},
   "outputs": [
    {
     "name": "stdout",
     "output_type": "stream",
     "text": [
      "Help on built-in function round in module builtins:\n",
      "\n",
      "round(number, ndigits=None)\n",
      "    Round a number to a given precision in decimal digits.\n",
      "    \n",
      "    The return value is an integer if ndigits is omitted or None.  Otherwise\n",
      "    the return value has the same type as the number.  ndigits may be negative.\n",
      "\n"
     ]
    }
   ],
   "source": [
    "help(round)"
   ]
  },
  {
   "cell_type": "code",
   "execution_count": 13,
   "metadata": {
    "id": "xPzQUla1MG51"
   },
   "outputs": [],
   "source": [
    "x=3.4567\n",
    "p=round(x,3)"
   ]
  },
  {
   "cell_type": "code",
   "execution_count": 14,
   "metadata": {
    "colab": {
     "base_uri": "https://localhost:8080/"
    },
    "id": "twybku7oMbmV",
    "outputId": "b79a583b-bdb0-430a-c1fe-b3c406f1d025"
   },
   "outputs": [
    {
     "data": {
      "text/plain": [
       "3.457"
      ]
     },
     "execution_count": 14,
     "metadata": {},
     "output_type": "execute_result"
    }
   ],
   "source": [
    "p"
   ]
  },
  {
   "cell_type": "code",
   "execution_count": 15,
   "metadata": {
    "colab": {
     "base_uri": "https://localhost:8080/"
    },
    "id": "z02lgx6xSlM_",
    "outputId": "f2f1246b-7d94-43cb-a19c-3227a703ec77"
   },
   "outputs": [
    {
     "data": {
      "text/plain": [
       "['abc', 10, 89, (3+6j), 10]"
      ]
     },
     "execution_count": 15,
     "metadata": {},
     "output_type": "execute_result"
    }
   ],
   "source": [
    "a"
   ]
  },
  {
   "cell_type": "code",
   "execution_count": 16,
   "metadata": {
    "id": "LncMIPloMcf9"
   },
   "outputs": [],
   "source": [
    "a.insert(5,\"Python\")"
   ]
  },
  {
   "cell_type": "code",
   "execution_count": 17,
   "metadata": {
    "colab": {
     "base_uri": "https://localhost:8080/"
    },
    "id": "1xPq2COpMtGh",
    "outputId": "95dfcdcb-8e5f-48a4-d653-b8e65a5af3c9"
   },
   "outputs": [
    {
     "data": {
      "text/plain": [
       "['abc', 10, 89, (3+6j), 10, 'Python']"
      ]
     },
     "execution_count": 17,
     "metadata": {},
     "output_type": "execute_result"
    }
   ],
   "source": [
    "a"
   ]
  },
  {
   "cell_type": "code",
   "execution_count": 18,
   "metadata": {
    "id": "10OJUy2eNLl2"
   },
   "outputs": [],
   "source": [
    "# Add to lists"
   ]
  },
  {
   "cell_type": "code",
   "execution_count": 19,
   "metadata": {
    "id": "UlNVqp0gNV09"
   },
   "outputs": [],
   "source": [
    "b=[\"cat\",\"dog\"]"
   ]
  },
  {
   "cell_type": "code",
   "execution_count": 20,
   "metadata": {
    "colab": {
     "base_uri": "https://localhost:8080/"
    },
    "id": "T5-IuHh7NbIB",
    "outputId": "4cbb5395-44a6-4ea5-ad29-c86b7a64cc17"
   },
   "outputs": [
    {
     "data": {
      "text/plain": [
       "['abc', 10, 89, (3+6j), 10, 'Python', 'cat', 'dog']"
      ]
     },
     "execution_count": 20,
     "metadata": {},
     "output_type": "execute_result"
    }
   ],
   "source": [
    "a+b"
   ]
  },
  {
   "cell_type": "code",
   "execution_count": 21,
   "metadata": {
    "colab": {
     "base_uri": "https://localhost:8080/"
    },
    "id": "UMBZfnGMS6hS",
    "outputId": "8e474994-b0f0-49cf-f007-d8bfaf50b945"
   },
   "outputs": [
    {
     "data": {
      "text/plain": [
       "['abc', 10, 89, (3+6j), 10, 'Python']"
      ]
     },
     "execution_count": 21,
     "metadata": {},
     "output_type": "execute_result"
    }
   ],
   "source": [
    "a"
   ]
  },
  {
   "cell_type": "code",
   "execution_count": 22,
   "metadata": {
    "id": "_SvqtimNNcIs"
   },
   "outputs": [],
   "source": [
    "a.extend(b)"
   ]
  },
  {
   "cell_type": "code",
   "execution_count": 22,
   "metadata": {
    "colab": {
     "base_uri": "https://localhost:8080/"
    },
    "id": "tVSlI2_INmYN",
    "outputId": "08e430d9-e9a3-4735-e4a5-c624a9e38221"
   },
   "outputs": [
    {
     "data": {
      "text/plain": [
       "['abc', 10, 89, (3+6j), 10, 'Python', 'cat', 'dog']"
      ]
     },
     "execution_count": 22,
     "metadata": {},
     "output_type": "execute_result"
    }
   ],
   "source": [
    "a"
   ]
  },
  {
   "cell_type": "code",
   "execution_count": 23,
   "metadata": {
    "id": "ihExUhiANnQW"
   },
   "outputs": [],
   "source": [
    "a.remove(89)"
   ]
  },
  {
   "cell_type": "code",
   "execution_count": 24,
   "metadata": {
    "colab": {
     "base_uri": "https://localhost:8080/"
    },
    "id": "4STMjUV5N1Zh",
    "outputId": "c660b6ec-22c1-40e4-f903-6611d73a152e"
   },
   "outputs": [
    {
     "data": {
      "text/plain": [
       "['abc', 10, (3+6j), 10, 'Python', 'cat', 'dog']"
      ]
     },
     "execution_count": 24,
     "metadata": {},
     "output_type": "execute_result"
    }
   ],
   "source": [
    "a"
   ]
  },
  {
   "cell_type": "code",
   "execution_count": 25,
   "metadata": {
    "id": "WSx7c4KDN5pe"
   },
   "outputs": [],
   "source": [
    "a.reverse()"
   ]
  },
  {
   "cell_type": "code",
   "execution_count": 26,
   "metadata": {
    "colab": {
     "base_uri": "https://localhost:8080/"
    },
    "id": "D-nt57d8N-rR",
    "outputId": "988fdc08-0d70-40f4-9635-a4b22eba8273"
   },
   "outputs": [
    {
     "data": {
      "text/plain": [
       "['dog', 'cat', 'Python', 10, (3+6j), 10, 'abc']"
      ]
     },
     "execution_count": 26,
     "metadata": {},
     "output_type": "execute_result"
    }
   ],
   "source": [
    "a"
   ]
  },
  {
   "cell_type": "code",
   "execution_count": 27,
   "metadata": {
    "colab": {
     "base_uri": "https://localhost:8080/"
    },
    "id": "eLiky3iUN_fw",
    "outputId": "01d6a402-1148-498d-ab46-575f4c3eb612"
   },
   "outputs": [
    {
     "data": {
      "text/plain": [
       "2"
      ]
     },
     "execution_count": 27,
     "metadata": {},
     "output_type": "execute_result"
    }
   ],
   "source": [
    "a.count(10)"
   ]
  },
  {
   "cell_type": "code",
   "execution_count": 28,
   "metadata": {
    "colab": {
     "base_uri": "https://localhost:8080/"
    },
    "id": "lIfPdmw8OHYo",
    "outputId": "b44d86f4-5194-4149-9c3d-26627eedd4bb"
   },
   "outputs": [
    {
     "data": {
      "text/plain": [
       "10"
      ]
     },
     "execution_count": 28,
     "metadata": {},
     "output_type": "execute_result"
    }
   ],
   "source": [
    "a.pop(3)"
   ]
  },
  {
   "cell_type": "code",
   "execution_count": 29,
   "metadata": {
    "colab": {
     "base_uri": "https://localhost:8080/"
    },
    "id": "rjdYnXoCOSIR",
    "outputId": "2657b876-6f48-44dc-ed8f-004db972f170"
   },
   "outputs": [
    {
     "data": {
      "text/plain": [
       "['dog', 'cat', 'Python', (3+6j), 10, 'abc']"
      ]
     },
     "execution_count": 29,
     "metadata": {},
     "output_type": "execute_result"
    }
   ],
   "source": [
    "a"
   ]
  },
  {
   "cell_type": "code",
   "execution_count": 30,
   "metadata": {
    "colab": {
     "base_uri": "https://localhost:8080/",
     "height": 35
    },
    "id": "W2G31IcPOUZQ",
    "outputId": "e7fce24b-c64f-45d4-c582-123fbb501050"
   },
   "outputs": [
    {
     "data": {
      "text/plain": [
       "'abc'"
      ]
     },
     "execution_count": 30,
     "metadata": {},
     "output_type": "execute_result"
    }
   ],
   "source": [
    "a.pop()"
   ]
  },
  {
   "cell_type": "code",
   "execution_count": 31,
   "metadata": {
    "colab": {
     "base_uri": "https://localhost:8080/"
    },
    "id": "KPwwzuwnObI8",
    "outputId": "be90b733-f482-45b4-82ce-85ce4c9601bf"
   },
   "outputs": [
    {
     "data": {
      "text/plain": [
       "['dog', 'cat', 'Python', (3+6j), 10]"
      ]
     },
     "execution_count": 31,
     "metadata": {},
     "output_type": "execute_result"
    }
   ],
   "source": [
    "a"
   ]
  },
  {
   "cell_type": "code",
   "execution_count": 32,
   "metadata": {
    "colab": {
     "base_uri": "https://localhost:8080/"
    },
    "id": "oGIuWnijOcNc",
    "outputId": "e46e1bac-68ed-4b9c-acf3-e24531e0e1bd"
   },
   "outputs": [
    {
     "data": {
      "text/plain": [
       "['cat', 'Python']"
      ]
     },
     "execution_count": 32,
     "metadata": {},
     "output_type": "execute_result"
    }
   ],
   "source": [
    "a[1:3]"
   ]
  },
  {
   "cell_type": "code",
   "execution_count": 33,
   "metadata": {
    "colab": {
     "base_uri": "https://localhost:8080/"
    },
    "id": "9QvE8iJeOl54",
    "outputId": "85c009b5-9949-49ec-f688-827baca7f1be"
   },
   "outputs": [
    {
     "data": {
      "text/plain": [
       "['cat', 'Python', (3+6j), 10]"
      ]
     },
     "execution_count": 33,
     "metadata": {},
     "output_type": "execute_result"
    }
   ],
   "source": [
    "a[1:]"
   ]
  },
  {
   "cell_type": "code",
   "execution_count": 34,
   "metadata": {
    "colab": {
     "base_uri": "https://localhost:8080/"
    },
    "id": "g2VkT69ZOsE8",
    "outputId": "ff38c86c-b6db-498d-a387-d0072aeb804f"
   },
   "outputs": [
    {
     "data": {
      "text/plain": [
       "['dog', 'cat', 'Python']"
      ]
     },
     "execution_count": 34,
     "metadata": {},
     "output_type": "execute_result"
    }
   ],
   "source": [
    "a[:3]"
   ]
  },
  {
   "cell_type": "code",
   "execution_count": 35,
   "metadata": {
    "colab": {
     "base_uri": "https://localhost:8080/"
    },
    "id": "yPUaZ30gO1B7",
    "outputId": "fb60b7d2-92ec-448d-ca98-c788a0be1e62"
   },
   "outputs": [
    {
     "data": {
      "text/plain": [
       "['dog', 'cat', 'Python', (3+6j), 10]"
      ]
     },
     "execution_count": 35,
     "metadata": {},
     "output_type": "execute_result"
    }
   ],
   "source": [
    "a"
   ]
  },
  {
   "cell_type": "code",
   "execution_count": 36,
   "metadata": {
    "colab": {
     "base_uri": "https://localhost:8080/"
    },
    "id": "XXhEYYcAO3AT",
    "outputId": "d693eef1-f075-485b-f821-399a1645586b"
   },
   "outputs": [
    {
     "data": {
      "text/plain": [
       "(3+6j)"
      ]
     },
     "execution_count": 36,
     "metadata": {},
     "output_type": "execute_result"
    }
   ],
   "source": [
    "a[-2]"
   ]
  },
  {
   "cell_type": "code",
   "execution_count": 37,
   "metadata": {
    "colab": {
     "base_uri": "https://localhost:8080/"
    },
    "id": "3Ris_VltO9U6",
    "outputId": "d2f7dc08-51b2-4c20-983c-9b9c89499094"
   },
   "outputs": [
    {
     "data": {
      "text/plain": [
       "[10]"
      ]
     },
     "execution_count": 37,
     "metadata": {},
     "output_type": "execute_result"
    }
   ],
   "source": [
    "a[-1:]"
   ]
  },
  {
   "cell_type": "code",
   "execution_count": 38,
   "metadata": {
    "colab": {
     "base_uri": "https://localhost:8080/"
    },
    "id": "NDbHrUtVT8qe",
    "outputId": "62568ebd-7857-4b91-b91d-9f2a2372a6ac"
   },
   "outputs": [
    {
     "data": {
      "text/plain": [
       "['dog', 'cat', 'Python', (3+6j), 10]"
      ]
     },
     "execution_count": 38,
     "metadata": {},
     "output_type": "execute_result"
    }
   ],
   "source": [
    "a[-5:]"
   ]
  },
  {
   "cell_type": "code",
   "execution_count": 39,
   "metadata": {
    "colab": {
     "base_uri": "https://localhost:8080/"
    },
    "id": "0DjepHcoPBcr",
    "outputId": "5836c61f-1240-4a2e-bd9d-5715c9c8104a"
   },
   "outputs": [
    {
     "data": {
      "text/plain": [
       "['dog', 'cat', 'Python', (3+6j), 10]"
      ]
     },
     "execution_count": 39,
     "metadata": {},
     "output_type": "execute_result"
    }
   ],
   "source": [
    "a"
   ]
  },
  {
   "cell_type": "code",
   "execution_count": 40,
   "metadata": {
    "colab": {
     "base_uri": "https://localhost:8080/"
    },
    "id": "NqFGROmfPGP5",
    "outputId": "2d703b7f-7b28-482c-94d0-8c6b016f3cb4"
   },
   "outputs": [
    {
     "data": {
      "text/plain": [
       "['cat', 'Python', (3+6j), 10]"
      ]
     },
     "execution_count": 40,
     "metadata": {},
     "output_type": "execute_result"
    }
   ],
   "source": [
    "a[-4:]"
   ]
  },
  {
   "cell_type": "code",
   "execution_count": 41,
   "metadata": {
    "colab": {
     "base_uri": "https://localhost:8080/"
    },
    "id": "PPfr03xuPMQc",
    "outputId": "d09a936b-fe5f-4aa4-88c6-5fa362a5e748"
   },
   "outputs": [
    {
     "data": {
      "text/plain": [
       "['cat', 'Python', (3+6j), 10]"
      ]
     },
     "execution_count": 41,
     "metadata": {},
     "output_type": "execute_result"
    }
   ],
   "source": [
    "a[1:]"
   ]
  },
  {
   "cell_type": "code",
   "execution_count": 42,
   "metadata": {
    "colab": {
     "base_uri": "https://localhost:8080/"
    },
    "id": "NlKWR-bQPRkj",
    "outputId": "da5c026a-12f7-4c4b-e5d7-dce479a84b6f"
   },
   "outputs": [
    {
     "data": {
      "text/plain": [
       "['dog', 'cat']"
      ]
     },
     "execution_count": 42,
     "metadata": {},
     "output_type": "execute_result"
    }
   ],
   "source": [
    "a[-5:-3]"
   ]
  },
  {
   "cell_type": "code",
   "execution_count": 25,
   "metadata": {
    "colab": {
     "base_uri": "https://localhost:8080/"
    },
    "id": "U0NDHNJkZcGT",
    "outputId": "5058e0c8-ba11-4b2b-b600-1f381f715b70"
   },
   "outputs": [
    {
     "name": "stdout",
     "output_type": "stream",
     "text": [
      "['red', 'blue']\n"
     ]
    }
   ],
   "source": [
    "col = ['red', 'green', 'blue', 'orange']\n",
    "print(colors[0:4:2])"
   ]
  },
  {
   "cell_type": "code",
   "execution_count": 26,
   "metadata": {
    "colab": {
     "base_uri": "https://localhost:8080/"
    },
    "id": "InNTg1iJZuAi",
    "outputId": "19c144a2-5408-49ea-af3f-edc5474c9fe1"
   },
   "outputs": [
    {
     "name": "stdout",
     "output_type": "stream",
     "text": [
      "['red', 'green', 'blue', 'orange']\n"
     ]
    }
   ],
   "source": [
    "print(col[0:4:1])"
   ]
  },
  {
   "cell_type": "code",
   "execution_count": 27,
   "metadata": {},
   "outputs": [
    {
     "data": {
      "text/plain": [
       "['red', 'green', 'blue', 'orange']"
      ]
     },
     "execution_count": 27,
     "metadata": {},
     "output_type": "execute_result"
    }
   ],
   "source": [
    "col[::1]"
   ]
  },
  {
   "cell_type": "code",
   "execution_count": 28,
   "metadata": {},
   "outputs": [
    {
     "data": {
      "text/plain": [
       "['red', 'blue']"
      ]
     },
     "execution_count": 28,
     "metadata": {},
     "output_type": "execute_result"
    }
   ],
   "source": [
    "col[::2]"
   ]
  },
  {
   "cell_type": "code",
   "execution_count": 29,
   "metadata": {},
   "outputs": [
    {
     "data": {
      "text/plain": [
       "['red', 'green']"
      ]
     },
     "execution_count": 29,
     "metadata": {},
     "output_type": "execute_result"
    }
   ],
   "source": [
    "col[:2:]"
   ]
  },
  {
   "cell_type": "code",
   "execution_count": 45,
   "metadata": {
    "colab": {
     "base_uri": "https://localhost:8080/"
    },
    "id": "R97mFTxtasfO",
    "outputId": "e68b9616-463b-4385-bf02-10beff675f42"
   },
   "outputs": [
    {
     "data": {
      "text/plain": [
       "['red', 'green', 'blue', 'orange']"
      ]
     },
     "execution_count": 45,
     "metadata": {},
     "output_type": "execute_result"
    }
   ],
   "source": [
    "colors[-4::]"
   ]
  },
  {
   "cell_type": "code",
   "execution_count": 46,
   "metadata": {
    "colab": {
     "base_uri": "https://localhost:8080/"
    },
    "id": "EvatOzjzZ0rx",
    "outputId": "d656c3b5-c49a-4a03-af63-30acf97c5e05"
   },
   "outputs": [
    {
     "name": "stdout",
     "output_type": "stream",
     "text": [
      "['red', 'green', 'blue', 'orange']\n"
     ]
    }
   ],
   "source": [
    "print(colors[::1])"
   ]
  },
  {
   "cell_type": "markdown",
   "metadata": {
    "id": "FyhT0BApbCc0"
   },
   "source": [
    "# Tupples"
   ]
  },
  {
   "cell_type": "code",
   "execution_count": 47,
   "metadata": {
    "id": "i5eREHBAPhYM"
   },
   "outputs": [],
   "source": [
    "b=(3,\"abc\",8.9,(3+2j))"
   ]
  },
  {
   "cell_type": "code",
   "execution_count": 48,
   "metadata": {
    "colab": {
     "base_uri": "https://localhost:8080/"
    },
    "id": "QqzWsDDRPncs",
    "outputId": "03cc0a2b-8716-482b-dc00-37002c6c3b53"
   },
   "outputs": [
    {
     "data": {
      "text/plain": [
       "tuple"
      ]
     },
     "execution_count": 48,
     "metadata": {},
     "output_type": "execute_result"
    }
   ],
   "source": [
    "type(b)"
   ]
  },
  {
   "cell_type": "code",
   "execution_count": 49,
   "metadata": {
    "colab": {
     "base_uri": "https://localhost:8080/"
    },
    "id": "pjGAtAWcPpc8",
    "outputId": "b511fa9e-3ae1-44fa-c5b7-984adfcdd094"
   },
   "outputs": [
    {
     "data": {
      "text/plain": [
       "(3, 'abc', 8.9, (3+2j))"
      ]
     },
     "execution_count": 49,
     "metadata": {},
     "output_type": "execute_result"
    }
   ],
   "source": [
    "b"
   ]
  },
  {
   "cell_type": "code",
   "execution_count": 50,
   "metadata": {
    "colab": {
     "base_uri": "https://localhost:8080/"
    },
    "id": "HXohqblnPrkF",
    "outputId": "838eb638-decb-4066-9279-6de798a6032f"
   },
   "outputs": [
    {
     "data": {
      "text/plain": [
       "(3+2j)"
      ]
     },
     "execution_count": 50,
     "metadata": {},
     "output_type": "execute_result"
    }
   ],
   "source": [
    "b[3]"
   ]
  },
  {
   "cell_type": "code",
   "execution_count": 51,
   "metadata": {
    "colab": {
     "base_uri": "https://localhost:8080/",
     "height": 166
    },
    "id": "QmCeSLN9PtNp",
    "outputId": "03f7f124-c4a1-43e0-92cb-a3b526d7664c"
   },
   "outputs": [
    {
     "ename": "TypeError",
     "evalue": "'tuple' object does not support item assignment",
     "output_type": "error",
     "traceback": [
      "\u001b[1;31m---------------------------------------------------------------------------\u001b[0m",
      "\u001b[1;31mTypeError\u001b[0m                                 Traceback (most recent call last)",
      "\u001b[1;32m~\\AppData\\Local\\Temp/ipykernel_4804/221981567.py\u001b[0m in \u001b[0;36m<module>\u001b[1;34m\u001b[0m\n\u001b[1;32m----> 1\u001b[1;33m \u001b[0mb\u001b[0m\u001b[1;33m[\u001b[0m\u001b[1;36m2\u001b[0m\u001b[1;33m]\u001b[0m\u001b[1;33m=\u001b[0m\u001b[1;36m10\u001b[0m\u001b[1;33m\u001b[0m\u001b[1;33m\u001b[0m\u001b[0m\n\u001b[0m",
      "\u001b[1;31mTypeError\u001b[0m: 'tuple' object does not support item assignment"
     ]
    }
   ],
   "source": [
    "b[2]=10"
   ]
  },
  {
   "cell_type": "code",
   "execution_count": 52,
   "metadata": {
    "id": "ZpaI-o16P3Hc"
   },
   "outputs": [],
   "source": [
    "c=(3,\"pqr\")"
   ]
  },
  {
   "cell_type": "code",
   "execution_count": 53,
   "metadata": {
    "colab": {
     "base_uri": "https://localhost:8080/"
    },
    "id": "WETxpBvRQIbq",
    "outputId": "3474dbb7-a311-4249-ffbf-d9c47e001b3f"
   },
   "outputs": [
    {
     "data": {
      "text/plain": [
       "(3, 'abc', 8.9, (3+2j))"
      ]
     },
     "execution_count": 53,
     "metadata": {},
     "output_type": "execute_result"
    }
   ],
   "source": [
    "b"
   ]
  },
  {
   "cell_type": "code",
   "execution_count": 54,
   "metadata": {
    "colab": {
     "base_uri": "https://localhost:8080/"
    },
    "id": "9pSdspVZQRsM",
    "outputId": "ff9b2aa3-955e-4dfb-8621-988a89a85a57"
   },
   "outputs": [
    {
     "data": {
      "text/plain": [
       "(3, 'pqr')"
      ]
     },
     "execution_count": 54,
     "metadata": {},
     "output_type": "execute_result"
    }
   ],
   "source": [
    "\n",
    "c"
   ]
  },
  {
   "cell_type": "code",
   "execution_count": 55,
   "metadata": {
    "colab": {
     "base_uri": "https://localhost:8080/"
    },
    "id": "AxQVxVI7QSpT",
    "outputId": "12df13ee-1935-4c27-9b79-52cfd42be9d0"
   },
   "outputs": [
    {
     "data": {
      "text/plain": [
       "(3, 'abc', 8.9, (3+2j), 3, 'pqr')"
      ]
     },
     "execution_count": 55,
     "metadata": {},
     "output_type": "execute_result"
    }
   ],
   "source": [
    "\n",
    "b+c"
   ]
  },
  {
   "cell_type": "code",
   "execution_count": 56,
   "metadata": {
    "colab": {
     "base_uri": "https://localhost:8080/"
    },
    "id": "u3DDfM7CUvV7",
    "outputId": "916a15c0-6cdd-4fae-f996-e6d5736a09a6"
   },
   "outputs": [
    {
     "data": {
      "text/plain": [
       "('abc', 8.9)"
      ]
     },
     "execution_count": 56,
     "metadata": {},
     "output_type": "execute_result"
    }
   ],
   "source": [
    "b[1:3]"
   ]
  },
  {
   "cell_type": "code",
   "execution_count": 57,
   "metadata": {
    "id": "dewQ9UIuQUSP"
   },
   "outputs": [],
   "source": [
    "# List anf Tupple Togeter\n"
   ]
  },
  {
   "cell_type": "code",
   "execution_count": 58,
   "metadata": {
    "id": "myeWxTt7QtWF"
   },
   "outputs": [],
   "source": [
    "a=[\"abc\",10]\n",
    "b=(3.5,\"pqr\")"
   ]
  },
  {
   "cell_type": "code",
   "execution_count": 59,
   "metadata": {
    "id": "NF8cHjrSQ08h"
   },
   "outputs": [],
   "source": [
    "a.append(b)"
   ]
  },
  {
   "cell_type": "code",
   "execution_count": 60,
   "metadata": {
    "colab": {
     "base_uri": "https://localhost:8080/"
    },
    "id": "Ruz2iavNQ2Is",
    "outputId": "c1e0ab45-57a2-4f5d-e8bb-ae9602d28f68"
   },
   "outputs": [
    {
     "data": {
      "text/plain": [
       "['abc', 10, (3.5, 'pqr')]"
      ]
     },
     "execution_count": 60,
     "metadata": {},
     "output_type": "execute_result"
    }
   ],
   "source": [
    "a"
   ]
  },
  {
   "cell_type": "code",
   "execution_count": 61,
   "metadata": {
    "id": "i48EX4V8RGbh"
   },
   "outputs": [],
   "source": [
    "b=a.copy()"
   ]
  },
  {
   "cell_type": "code",
   "execution_count": 62,
   "metadata": {
    "colab": {
     "base_uri": "https://localhost:8080/"
    },
    "id": "J45bWl1CROI6",
    "outputId": "d05735f5-c763-4ce6-b2a0-15d139a56a08"
   },
   "outputs": [
    {
     "data": {
      "text/plain": [
       "['abc', 10, (3.5, 'pqr')]"
      ]
     },
     "execution_count": 62,
     "metadata": {},
     "output_type": "execute_result"
    }
   ],
   "source": [
    "b"
   ]
  },
  {
   "cell_type": "markdown",
   "metadata": {
    "id": "gfNtrdidRO9T"
   },
   "source": [
    "# Sets"
   ]
  },
  {
   "cell_type": "code",
   "execution_count": 64,
   "metadata": {
    "id": "GxEutcRmRTWX"
   },
   "outputs": [],
   "source": [
    "p={\"abc\",6,7.8}"
   ]
  },
  {
   "cell_type": "code",
   "execution_count": 65,
   "metadata": {
    "colab": {
     "base_uri": "https://localhost:8080/"
    },
    "id": "EQ_bLHFbRYFO",
    "outputId": "77df436b-e993-4177-f34a-4f44eeda0d4c"
   },
   "outputs": [
    {
     "data": {
      "text/plain": [
       "{6, 7.8, 'abc'}"
      ]
     },
     "execution_count": 65,
     "metadata": {},
     "output_type": "execute_result"
    }
   ],
   "source": [
    "p"
   ]
  },
  {
   "cell_type": "code",
   "execution_count": 66,
   "metadata": {
    "colab": {
     "base_uri": "https://localhost:8080/"
    },
    "id": "Wejuq-xGRY1A",
    "outputId": "0dc8c050-087d-424e-c0ab-33afad740351"
   },
   "outputs": [
    {
     "data": {
      "text/plain": [
       "set"
      ]
     },
     "execution_count": 66,
     "metadata": {},
     "output_type": "execute_result"
    }
   ],
   "source": [
    "type(p)"
   ]
  },
  {
   "cell_type": "code",
   "execution_count": 67,
   "metadata": {
    "colab": {
     "base_uri": "https://localhost:8080/"
    },
    "id": "dlg5d7TrRgXt",
    "outputId": "a9c674c7-b9a3-4f59-fd93-7a44e6f8ce51"
   },
   "outputs": [
    {
     "name": "stdout",
     "output_type": "stream",
     "text": [
      "{'abc', 6, 7.8}\n"
     ]
    }
   ],
   "source": [
    "print(p)"
   ]
  },
  {
   "cell_type": "code",
   "execution_count": 68,
   "metadata": {
    "colab": {
     "base_uri": "https://localhost:8080/"
    },
    "id": "3PmzdX-Rb6IZ",
    "outputId": "a9b29f14-35de-42f6-92e2-6a59660dee60"
   },
   "outputs": [
    {
     "name": "stdout",
     "output_type": "stream",
     "text": [
      "{1.0, (1, 2, 3), 'Hello'}\n"
     ]
    }
   ],
   "source": [
    "my_set = {1.0, \"Hello\", (1, 2, 3)}\n",
    "print(my_set)"
   ]
  },
  {
   "cell_type": "code",
   "execution_count": 69,
   "metadata": {
    "colab": {
     "base_uri": "https://localhost:8080/"
    },
    "id": "V6HGTemCcKHF",
    "outputId": "9cee28f3-a89a-477c-a828-83212df41cdc"
   },
   "outputs": [
    {
     "name": "stdout",
     "output_type": "stream",
     "text": [
      "{1, 2, 3, 4}\n"
     ]
    }
   ],
   "source": [
    "# set cannot have duplicates\n",
    "# Output: {1, 2, 3, 4}\n",
    "my_set = {1, 2, 3, 4, 3, 2}\n",
    "print(my_set)\n",
    "\n"
   ]
  },
  {
   "cell_type": "code",
   "execution_count": 70,
   "metadata": {
    "id": "YEFdgveTRq1Z"
   },
   "outputs": [],
   "source": [
    "# Dictonaries\n",
    "a={\"brand\":\"Maruti\",\n",
    "   \"model\":\"Alto\",\n",
    "   \"year\":2009\n",
    "\n",
    "}"
   ]
  },
  {
   "cell_type": "code",
   "execution_count": 71,
   "metadata": {
    "colab": {
     "base_uri": "https://localhost:8080/"
    },
    "id": "9nwetd3OSDG4",
    "outputId": "99a54968-1f4b-484d-f85c-b0eb6489e5a3"
   },
   "outputs": [
    {
     "data": {
      "text/plain": [
       "{'brand': 'Maruti', 'model': 'Alto', 'year': 2009}"
      ]
     },
     "execution_count": 71,
     "metadata": {},
     "output_type": "execute_result"
    }
   ],
   "source": [
    "a"
   ]
  },
  {
   "cell_type": "code",
   "execution_count": 72,
   "metadata": {
    "colab": {
     "base_uri": "https://localhost:8080/",
     "height": 35
    },
    "id": "bMw62UAXSFuu",
    "outputId": "0de7fbe6-745a-41df-f902-007712c18c58"
   },
   "outputs": [
    {
     "data": {
      "text/plain": [
       "'Maruti'"
      ]
     },
     "execution_count": 72,
     "metadata": {},
     "output_type": "execute_result"
    }
   ],
   "source": [
    "a[\"brand\"]"
   ]
  },
  {
   "cell_type": "code",
   "execution_count": 73,
   "metadata": {
    "colab": {
     "base_uri": "https://localhost:8080/"
    },
    "id": "H1WcfFI2SNNj",
    "outputId": "780ed28d-0c21-4527-92f4-b12e6ce0697a"
   },
   "outputs": [
    {
     "data": {
      "text/plain": [
       "2009"
      ]
     },
     "execution_count": 73,
     "metadata": {},
     "output_type": "execute_result"
    }
   ],
   "source": [
    "a[\"year\"]"
   ]
  },
  {
   "cell_type": "code",
   "execution_count": 74,
   "metadata": {
    "id": "SzH78QFOqwoT"
   },
   "outputs": [],
   "source": [
    "a[\"year\"]=2012"
   ]
  },
  {
   "cell_type": "code",
   "execution_count": 75,
   "metadata": {
    "colab": {
     "base_uri": "https://localhost:8080/"
    },
    "id": "wbY2sBjKSV4b",
    "outputId": "f5377470-5569-4b69-81e1-c698f05ecdb3"
   },
   "outputs": [
    {
     "name": "stdout",
     "output_type": "stream",
     "text": [
      "{'brand': 'Maruti', 'model': 'Alto', 'year': 2012}\n"
     ]
    }
   ],
   "source": [
    "print(a)"
   ]
  }
 ],
 "metadata": {
  "colab": {
   "provenance": []
  },
  "kernelspec": {
   "display_name": "Python 3 (ipykernel)",
   "language": "python",
   "name": "python3"
  },
  "language_info": {
   "codemirror_mode": {
    "name": "ipython",
    "version": 3
   },
   "file_extension": ".py",
   "mimetype": "text/x-python",
   "name": "python",
   "nbconvert_exporter": "python",
   "pygments_lexer": "ipython3",
   "version": "3.9.7"
  }
 },
 "nbformat": 4,
 "nbformat_minor": 1
}
