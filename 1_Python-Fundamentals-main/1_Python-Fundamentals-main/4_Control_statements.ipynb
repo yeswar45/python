{
 "cells": [
  {
   "cell_type": "code",
   "execution_count": 1,
   "metadata": {
    "colab": {
     "base_uri": "https://localhost:8080/"
    },
    "id": "L_A2TiWrCvKa",
    "outputId": "d40dc60f-fd21-42a9-ad5a-7444befd4302"
   },
   "outputs": [
    {
     "name": "stdout",
     "output_type": "stream",
     "text": [
      "Enter a\t12\n",
      "Enter b\t2\n",
      "a is big\n"
     ]
    }
   ],
   "source": [
    "a=int(input(\"Enter a\\t\"))\n",
    "b=int(input(\"Enter b\\t\"))\n",
    "\n",
    "if a>b:\n",
    "    print(\"a is big\")"
   ]
  },
  {
   "cell_type": "code",
   "execution_count": 2,
   "metadata": {
    "colab": {
     "base_uri": "https://localhost:8080/"
    },
    "id": "e31LefjOCvKo",
    "outputId": "373bcc81-7cb0-49b1-9c94-1607064d739a"
   },
   "outputs": [
    {
     "name": "stdout",
     "output_type": "stream",
     "text": [
      "right\n"
     ]
    }
   ],
   "source": [
    "if(2==2):\n",
    "    print(\"right\")"
   ]
  },
  {
   "cell_type": "code",
   "execution_count": 3,
   "metadata": {
    "colab": {
     "base_uri": "https://localhost:8080/"
    },
    "id": "ND4i08U_CvKw",
    "outputId": "e89c8ed0-e944-4fb7-e4de-f1de45a324ad"
   },
   "outputs": [
    {
     "name": "stdout",
     "output_type": "stream",
     "text": [
      "122\n"
     ]
    }
   ],
   "source": [
    "a=122\n",
    "b=3\n",
    "if(a>b):\n",
    "    print(a)\n",
    "else:print(b)\n",
    "\n"
   ]
  },
  {
   "cell_type": "code",
   "execution_count": 2,
   "metadata": {
    "colab": {
     "base_uri": "https://localhost:8080/"
    },
    "id": "pHm8VwpkCvK0",
    "outputId": "ca2c953e-cd0b-4396-9e85-4bdc37727844"
   },
   "outputs": [
    {
     "name": "stdout",
     "output_type": "stream",
     "text": [
      "8\n"
     ]
    }
   ],
   "source": [
    "a=8\n",
    "b=3\n",
    "c=3\n",
    "if (a>b):\n",
    "    print(a)\n",
    "elif(b==c):\n",
    "    print(b)\n",
    "else:print(c)\n"
   ]
  },
  {
   "cell_type": "markdown",
   "metadata": {},
   "source": [
    "# For Loop"
   ]
  },
  {
   "cell_type": "markdown",
   "metadata": {
    "id": "N3O2f3Eo-spK"
   },
   "source": [
    "\n",
    "\n",
    "* A for loop is used for iterating over a sequence (that is either a list, a tuple, a dictionary, a set, or a string).\n",
    "\n",
    "* This is less like the for keyword in other programming languages, and works more like an iterator method as found in other object-orientated programming languages.\n",
    "\n",
    "* With the for loop we can execute a set of statements, once for each item in a list, tuple, set etc."
   ]
  },
  {
   "cell_type": "markdown",
   "metadata": {
    "id": "BR89X1N0_Cqh"
   },
   "source": [
    "## 1: Looping through Range"
   ]
  },
  {
   "cell_type": "code",
   "execution_count": 5,
   "metadata": {
    "colab": {
     "base_uri": "https://localhost:8080/"
    },
    "id": "jPymeKCICvK4",
    "outputId": "ece15274-44a1-4cde-b8f5-a473268c36a7"
   },
   "outputs": [
    {
     "name": "stdout",
     "output_type": "stream",
     "text": [
      "0\n",
      "1\n",
      "2\n",
      "3\n",
      "4\n"
     ]
    }
   ],
   "source": [
    "for i in range(5):\n",
    "    print(i)"
   ]
  },
  {
   "cell_type": "code",
   "execution_count": 6,
   "metadata": {
    "colab": {
     "base_uri": "https://localhost:8080/"
    },
    "id": "Mbu3OAn7CvK8",
    "outputId": "87258a3b-b276-41db-b3df-60275815f0b4"
   },
   "outputs": [
    {
     "name": "stdout",
     "output_type": "stream",
     "text": [
      "Welcome\n",
      "Welcome\n",
      "Welcome\n",
      "Welcome\n"
     ]
    }
   ],
   "source": [
    "for i in range(4):\n",
    "    print(\"Welcome\")"
   ]
  },
  {
   "cell_type": "markdown",
   "metadata": {
    "id": "RgzHCveX_MjK"
   },
   "source": [
    "## 2_Looping through List/ Tupples/ Sets/ Dictionaries"
   ]
  },
  {
   "cell_type": "code",
   "execution_count": null,
   "metadata": {
    "colab": {
     "base_uri": "https://localhost:8080/"
    },
    "id": "ZQwWYCX__XKR",
    "outputId": "f3d4d84a-d49c-465f-8b59-a25cd06e4eff"
   },
   "outputs": [
    {
     "name": "stdout",
     "output_type": "stream",
     "text": [
      "10\n",
      "2.5\n",
      "(3+2j)\n",
      "abc\n"
     ]
    }
   ],
   "source": [
    "for x in [10,2.5,(3+2j),\"abc\"]:\n",
    "  print(x)"
   ]
  },
  {
   "cell_type": "code",
   "execution_count": 7,
   "metadata": {
    "colab": {
     "base_uri": "https://localhost:8080/"
    },
    "id": "399GI_BICvLj",
    "outputId": "a0cc5518-c6db-4f98-b9c0-0539c1c6e190"
   },
   "outputs": [
    {
     "name": "stdout",
     "output_type": "stream",
     "text": [
      "6\n"
     ]
    }
   ],
   "source": [
    "# sum of first 3 no\n",
    "sum=0\n",
    "for i in range(1,4,1):\n",
    "    sum=sum+i;\n",
    "print(sum)"
   ]
  },
  {
   "cell_type": "markdown",
   "metadata": {
    "id": "vQl8ZFqx_LWC"
   },
   "source": [
    "## Looping Through a String\n",
    "\n"
   ]
  },
  {
   "cell_type": "code",
   "execution_count": null,
   "metadata": {
    "colab": {
     "base_uri": "https://localhost:8080/"
    },
    "id": "6L7X7YINQhTR",
    "outputId": "c7fc97d4-4cda-458e-e335-c276b53bd9bb"
   },
   "outputs": [
    {
     "name": "stdout",
     "output_type": "stream",
     "text": [
      "W\n",
      "e\n",
      "l\n",
      "c\n",
      "o\n",
      "m\n",
      "e\n"
     ]
    }
   ],
   "source": [
    "for x in \"Welcome\":\n",
    "  print(x)"
   ]
  },
  {
   "cell_type": "code",
   "execution_count": null,
   "metadata": {
    "colab": {
     "base_uri": "https://localhost:8080/"
    },
    "id": "5mtc2SnvCvLw",
    "outputId": "30ec6c2b-8eb9-4ed1-acf3-ba23955f9dcd"
   },
   "outputs": [
    {
     "name": "stdout",
     "output_type": "stream",
     "text": [
      "o\n",
      "e\n",
      "u\n"
     ]
    }
   ],
   "source": [
    "vowil='aeiou'\n",
    "for i in 'powerful':\n",
    "    if i in vowil:\n",
    "        print(i)"
   ]
  },
  {
   "cell_type": "markdown",
   "metadata": {
    "id": "7aL1A70hR6ZM"
   },
   "source": [
    "## While loop"
   ]
  },
  {
   "cell_type": "code",
   "execution_count": null,
   "metadata": {
    "colab": {
     "base_uri": "https://localhost:8080/"
    },
    "id": "rltIJORiCvLp",
    "outputId": "d886d222-8adc-4cd2-b23b-71340d459616"
   },
   "outputs": [
    {
     "name": "stdout",
     "output_type": "stream",
     "text": [
      "hi\n",
      "hi\n",
      "hi\n"
     ]
    }
   ],
   "source": [
    "#while\n",
    "\n",
    "i=1\n",
    "while (i<=3):\n",
    "    print(\"hi\")\n",
    "    i=i+1\n",
    "\n"
   ]
  },
  {
   "cell_type": "code",
   "execution_count": null,
   "metadata": {
    "colab": {
     "base_uri": "https://localhost:8080/"
    },
    "id": "O9Ox9Qg5DGBA",
    "outputId": "428bec41-f1cb-4ec7-cbf7-b041611f3bbc"
   },
   "outputs": [
    {
     "name": "stdout",
     "output_type": "stream",
     "text": [
      "1\n",
      "2\n",
      "3\n",
      "4\n",
      "5\n",
      "6\n"
     ]
    }
   ],
   "source": [
    "i=1\n",
    "while i<=6:\n",
    "  print(i)\n",
    "  i=i+1"
   ]
  },
  {
   "cell_type": "code",
   "execution_count": null,
   "metadata": {
    "colab": {
     "base_uri": "https://localhost:8080/"
    },
    "id": "RATGZ1R1CvL9",
    "outputId": "31e566ab-10d2-4e6e-e83a-b6f834609d78"
   },
   "outputs": [
    {
     "data": {
      "text/plain": [
       "['how', 'are', 'you']"
      ]
     },
     "execution_count": 19,
     "metadata": {
      "tags": []
     },
     "output_type": "execute_result"
    }
   ],
   "source": [
    "message=\"how are you\"\n",
    "message.split()"
   ]
  },
  {
   "cell_type": "code",
   "execution_count": null,
   "metadata": {
    "id": "RjYJKTmuCvMG",
    "outputId": "2cf9f68c-2103-4865-d1b7-873c4606fdc6"
   },
   "outputs": [
    {
     "name": "stdout",
     "output_type": "stream",
     "text": [
      "how\n",
      "are\n",
      "you\n"
     ]
    }
   ],
   "source": [
    "for word in message.split():\n",
    "    print(word)"
   ]
  },
  {
   "cell_type": "markdown",
   "metadata": {
    "id": "QO_ECdBZ7UMp"
   },
   "source": [
    "## Break"
   ]
  },
  {
   "cell_type": "code",
   "execution_count": null,
   "metadata": {
    "colab": {
     "base_uri": "https://localhost:8080/"
    },
    "id": "RwGFUYyB7VuF",
    "outputId": "03a74da5-aaf6-4456-d039-5499468b912c"
   },
   "outputs": [
    {
     "name": "stdout",
     "output_type": "stream",
     "text": [
      "10\n",
      "11\n",
      "12\n",
      "13\n",
      "14\n",
      "15\n",
      "16\n",
      "17\n",
      "18\n",
      "19\n",
      "20\n"
     ]
    }
   ],
   "source": [
    "for i in range(10,30):\n",
    "  print(i)\n",
    "  if(i==20):\n",
    "    break"
   ]
  },
  {
   "cell_type": "code",
   "execution_count": null,
   "metadata": {
    "colab": {
     "base_uri": "https://localhost:8080/"
    },
    "id": "aSMFKY-l7gcA",
    "outputId": "2c8e6cbf-a420-45c1-ab49-43ee0815e66b"
   },
   "outputs": [
    {
     "name": "stdout",
     "output_type": "stream",
     "text": [
      "10\n",
      "12\n",
      "14\n",
      "16\n",
      "18\n",
      "20\n"
     ]
    }
   ],
   "source": [
    "for i in range(10,30,2):\n",
    "  print(i)\n",
    "  if(i==20):\n",
    "    break"
   ]
  },
  {
   "cell_type": "code",
   "execution_count": null,
   "metadata": {
    "colab": {
     "base_uri": "https://localhost:8080/"
    },
    "id": "99kAN9YJQwoG",
    "outputId": "c6306d32-a0d1-4fd5-dec0-05ec44c03c30"
   },
   "outputs": [
    {
     "name": "stdout",
     "output_type": "stream",
     "text": [
      "apple\n",
      "banana\n"
     ]
    }
   ],
   "source": [
    "fruits = [\"apple\", \"banana\", \"cherry\"]\n",
    "for x in fruits:\n",
    "  print(x)\n",
    "  if x == \"banana\":\n",
    "    break"
   ]
  },
  {
   "cell_type": "markdown",
   "metadata": {
    "id": "_PVKaGLh70SI"
   },
   "source": [
    "## Q: Print Odd nubers between 1 to 10"
   ]
  },
  {
   "cell_type": "code",
   "execution_count": null,
   "metadata": {
    "colab": {
     "base_uri": "https://localhost:8080/"
    },
    "id": "SsUJuBv377pa",
    "outputId": "ce941360-099f-491a-f930-e58fa6a81e0d"
   },
   "outputs": [
    {
     "name": "stdout",
     "output_type": "stream",
     "text": [
      "1\n",
      "2\n",
      "3\n",
      "4\n",
      "5\n",
      "6\n",
      "7\n",
      "8\n",
      "9\n"
     ]
    }
   ],
   "source": [
    "# Using for loop\n",
    "for i in range(1,10,1):\n",
    "   print(i)\n"
   ]
  },
  {
   "cell_type": "markdown",
   "metadata": {
    "id": "QE5FNt0q9wED"
   },
   "source": [
    "## Python continue Keyword\n",
    "* With the continue statement we can stop the current iteration of the loop, and continue with the next\n",
    "\n"
   ]
  },
  {
   "cell_type": "code",
   "execution_count": null,
   "metadata": {
    "colab": {
     "base_uri": "https://localhost:8080/"
    },
    "id": "JLKWNYjOQ_bu",
    "outputId": "a9842de1-1d0e-4568-a0c3-5303a33d5a3f"
   },
   "outputs": [
    {
     "name": "stdout",
     "output_type": "stream",
     "text": [
      "cherry\n",
      "mango\n"
     ]
    }
   ],
   "source": [
    "# Do not print banana\n",
    "\n",
    "fruits = [\"cherry\", \"banana\", \"mango\"]\n",
    "for x in fruits:\n",
    "  if x == \"banana\":\n",
    "    continue\n",
    "  print(x)"
   ]
  },
  {
   "cell_type": "markdown",
   "metadata": {
    "id": "C9zQNTWr95eP"
   },
   "source": [
    "## Python continue Keyword\n",
    "* The continue keyword is used to end the current iteration in a for loop (or a\n",
    "  while loop), and continues to the next iteration.\n",
    "\n"
   ]
  },
  {
   "cell_type": "code",
   "execution_count": null,
   "metadata": {
    "colab": {
     "base_uri": "https://localhost:8080/"
    },
    "id": "5lOZ0Acw96SU",
    "outputId": "b4aa6607-189f-4cb1-d604-86aeb45b3c74"
   },
   "outputs": [
    {
     "name": "stdout",
     "output_type": "stream",
     "text": [
      "0\n",
      "1\n",
      "2\n",
      "4\n",
      "5\n",
      "6\n",
      "7\n",
      "8\n"
     ]
    }
   ],
   "source": [
    "for i in range(9):\n",
    "  if i == 3:\n",
    "    continue\n",
    "  print(i)"
   ]
  },
  {
   "cell_type": "code",
   "execution_count": null,
   "metadata": {
    "colab": {
     "base_uri": "https://localhost:8080/"
    },
    "id": "eIyczXNu-dmd",
    "outputId": "2d91674a-73ca-4efa-86d2-bc9f6ba03f96"
   },
   "outputs": [
    {
     "name": "stdout",
     "output_type": "stream",
     "text": [
      "1\n",
      "2\n",
      "4\n",
      "5\n",
      "6\n",
      "7\n",
      "8\n",
      "9\n"
     ]
    }
   ],
   "source": [
    "i = 0\n",
    "while i < 9:\n",
    "  i += 1\n",
    "  if i == 3:\n",
    "    continue\n",
    "  print(i)"
   ]
  },
  {
   "cell_type": "code",
   "execution_count": null,
   "metadata": {
    "id": "eNVavser-ei9"
   },
   "outputs": [],
   "source": []
  },
  {
   "cell_type": "markdown",
   "metadata": {
    "id": "ceMg7p6XSQJY"
   },
   "source": [
    "#Q: What will be the output of\n",
    "for x in range(2, 30, 2):\n",
    "print(x)"
   ]
  },
  {
   "cell_type": "code",
   "execution_count": null,
   "metadata": {
    "id": "16-44wWKSVNN"
   },
   "outputs": [],
   "source": []
  },
  {
   "cell_type": "markdown",
   "metadata": {
    "id": "mr9dZwpPSiK-"
   },
   "source": [
    "# Additional"
   ]
  },
  {
   "cell_type": "code",
   "execution_count": null,
   "metadata": {
    "colab": {
     "base_uri": "https://localhost:8080/"
    },
    "id": "dwxS6MXSSkLU",
    "outputId": "8db55a09-347b-43ab-a642-13b9d4475e47"
   },
   "outputs": [
    {
     "name": "stdout",
     "output_type": "stream",
     "text": [
      "0\n",
      "1\n",
      "2\n",
      "3\n",
      "4\n",
      "5\n",
      "Finally finished!\n"
     ]
    }
   ],
   "source": [
    "for x in range(6):\n",
    "  print(x)\n",
    "else:\n",
    "  print(\"Finally finished!\")\n"
   ]
  },
  {
   "cell_type": "code",
   "execution_count": null,
   "metadata": {
    "colab": {
     "base_uri": "https://localhost:8080/"
    },
    "id": "PffXvxd9SnWj",
    "outputId": "e2406857-943e-4d5b-ceb4-9d256a9c6a0f"
   },
   "outputs": [
    {
     "name": "stdout",
     "output_type": "stream",
     "text": [
      "2\n",
      "Finally finished!\n"
     ]
    }
   ],
   "source": [
    "abc=[\"Hi\",2,44]\n",
    "for x in abc:\n",
    "  if(x==2):\n",
    "    print(x)\n",
    "else:\n",
    "  print(\"Finally finished!\")\n"
   ]
  },
  {
   "cell_type": "markdown",
   "metadata": {
    "id": "MBLFlL5OTAs6"
   },
   "source": [
    "# Pass\n",
    "\n",
    "* for loops cannot be empty, but if you for some reason have a for loop with no content, put in the pass statement to avoid getting an error."
   ]
  },
  {
   "cell_type": "code",
   "execution_count": null,
   "metadata": {
    "colab": {
     "base_uri": "https://localhost:8080/",
     "height": 130
    },
    "id": "BPvMlRWTTDR7",
    "outputId": "ad2aa322-e206-4a71-b35c-586916e3891f"
   },
   "outputs": [
    {
     "ename": "SyntaxError",
     "evalue": "ignored",
     "output_type": "error",
     "traceback": [
      "\u001b[0;36m  File \u001b[0;32m\"<ipython-input-16-7978620e70c1>\"\u001b[0;36m, line \u001b[0;32m3\u001b[0m\n\u001b[0;31m    \u001b[0m\n\u001b[0m    ^\u001b[0m\n\u001b[0;31mSyntaxError\u001b[0m\u001b[0;31m:\u001b[0m unexpected EOF while parsing\n"
     ]
    }
   ],
   "source": [
    "# For loop can not be empty\n",
    "for x in [0, 1, 2]:\n"
   ]
  },
  {
   "cell_type": "code",
   "execution_count": null,
   "metadata": {
    "colab": {
     "base_uri": "https://localhost:8080/"
    },
    "id": "NWu1BFS8TOhS",
    "outputId": "748f098c-8273-43d6-cac4-0fcea72db521"
   },
   "outputs": [
    {
     "name": "stdout",
     "output_type": "stream",
     "text": [
      "Done\n"
     ]
    }
   ],
   "source": [
    "for x in [0, 1, 2]:\n",
    "  pass\n",
    "print(\"Done\")\n"
   ]
  }
 ],
 "metadata": {
  "colab": {
   "provenance": []
  },
  "kernelspec": {
   "display_name": "Python 3 (ipykernel)",
   "language": "python",
   "name": "python3"
  },
  "language_info": {
   "codemirror_mode": {
    "name": "ipython",
    "version": 3
   },
   "file_extension": ".py",
   "mimetype": "text/x-python",
   "name": "python",
   "nbconvert_exporter": "python",
   "pygments_lexer": "ipython3",
   "version": "3.9.7"
  }
 },
 "nbformat": 4,
 "nbformat_minor": 1
}
